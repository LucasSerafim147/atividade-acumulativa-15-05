{
 "cells": [
  {
   "cell_type": "code",
   "execution_count": null,
   "metadata": {},
   "outputs": [],
   "source": [
    "# 1) VOGAL OU CONSOANTE\n",
    "letra = input(\"Digite uma letra\")\n",
    "\n",
    "if letra in \"AEIOUaeiou\":\n",
    "    print(\"A letra digitada é uma vogal\")\n",
    "else:\n",
    " print(\"A letra digitada é uma consoante\")"
   ]
  },
  {
   "cell_type": "code",
   "execution_count": null,
   "metadata": {},
   "outputs": [],
   "source": [
    "# 2) TURNO\n",
    "Dia=(input(\"Insira seu horario: \"))\n",
    " \n",
    "if Dia == \"Matutino\" and \"matutino\":\n",
    "    print(\"Bom Dia\")\n",
    "elif Dia == \"Vespertino\" and \"vespertino\":\n",
    "    print(\"Boa tarde\")\n",
    "elif Dia == \"Noturno\" and \"noturno\":  \n",
    "    print(\"Boa noite\")\n",
    "else:(print(\"valor invalido\"))\n"
   ]
  },
  {
   "cell_type": "code",
   "execution_count": null,
   "metadata": {},
   "outputs": [],
   "source": [
    "#3) DIA DA SEMANA\n",
    "dias_da = [\"Domingo\", \"segunda\", \"terça\", \"quarta\", \"quinta\", \"sexta\", \"sábado\"]\n",
    "\n",
    "dia = int(input(\"Insira um número de 1 a 7: \"))\n",
    "\n",
    "if 1 <= dia <= 7:\n",
    "    print(\"O dia é:\", dias_da[dia - 1])\n",
    "else:\n",
    "    print(\"Insira um valor inválido.\")"
   ]
  },
  {
   "cell_type": "code",
   "execution_count": null,
   "metadata": {},
   "outputs": [],
   "source": [
    "#4) 3 PRODUTOS \n",
    "produto1 = input(\"Insira o produto: \")\n",
    "preco1 = float(input(\"Insira o valor do produto: \"))\n",
    "\n",
    "produto2 = input(\"Insira o produto: \")\n",
    "preco2 = float(input(\"Insira o valor do produto: \"))\n",
    "\n",
    "produto3 = input(\"Insira o produto: \")\n",
    "preco3 = float(input(\"Insira o valor do produto: \"))\n",
    "\n",
    "\n",
    "menor_preco = min(preco1,preco2,preco3)\n",
    "\n",
    "if produto1 == menor_preco:\n",
    "    print(\"O menor produto é: \", produto1)\n",
    "elif produto2 == menor_preco:\n",
    "    print(\"O menor produto é: \", produto2)\n",
    "else:\n",
    "    \n",
    "    print(\"O menor produto é: \", produto3)\n",
    "\n",
    "\n",
    "#5) CONCEITOS\n",
    "Nota1 = float(input(\"insira sua primeira nota: \"))\n",
    "Nota2 = float(input(\"insira sua segunda nota: \"))\n",
    " \n",
    "Media = (Nota1 + Nota2) / 2\n",
    " \n",
    "if Media >= 9 or Media == 10:\n",
    "    print(f\"Sua primeira nota foi {Nota1} a segunda {Nota2} e a media {Media} Seu conceito é A\")\n",
    "elif Media >= 7.5 or Media == 9:\n",
    "    print(f\"Sua primeira nota foi {Nota1} a segunda {Nota2} e a media {Media} Seu conceito é B\")\n",
    "elif Media >= 6 or Media == 7.5:\n",
    "    print(f\"Sua primeira nota foi {Nota1} a segunda {Nota2} e a media {Media} Seu conceito é C\")\n",
    "elif Media >= 4 or Media == 6:\n",
    "    print(f\"Sua primeira nota foi {Nota1} a segunda {Nota2} e a media {Media} Seu conceito é D\")\n",
    "elif Media >= 4 or Media == 0:\n",
    "    print(f\"Sua primeira nota foi {Nota1} a segunda {Nota2} e a media {Media} Seu conceito é E\")\n",
    "    \n",
    "if Media >= 9 or Media == 10:\n",
    "    print(\"APROVADO\")\n",
    "elif Media >= 7.5 or Media == 9:\n",
    "    print(\"APROVADO\")\n",
    "elif Media >= 6 or Media == 7.5:\n",
    "    print(\"APROVADO\")\n",
    "elif Media >= 4 or Media == 6:\n",
    "    print(\"REPROVADO\")\n",
    "elif Media >= 4 or Media == 0:\n",
    "    print(\"REPROVADO\")\n",
    "    "
   ]
  },
  {
   "cell_type": "code",
   "execution_count": null,
   "metadata": {},
   "outputs": [],
   "source": [
    "#6) ANO BISSEXTO\n",
    "ano = int(input(\"Insira o Ano: \"))\n",
    "\n",
    "if ano % 400 == 0 :\n",
    "    print(\"O ano é bissexto\")\n",
    "else:\n",
    "    print(\"O ano é normal\")"
   ]
  },
  {
   "cell_type": "code",
   "execution_count": 62,
   "metadata": {},
   "outputs": [
    {
     "name": "stdout",
     "output_type": "stream",
     "text": [
      "O resultado é: 40.0\n",
      "O numero é par.\n",
      "O resultado é positivo \n",
      "O numero é inteiro\n"
     ]
    }
   ],
   "source": [
    "#7)NUMERO DECIMAL/INTEIRO NEGATIVO/POSITVO PAR/IMPAR\n",
    "\n",
    "num1 = float(input(\"Insira um numero: \"))\n",
    "num2 = float(input(\"Insira um numero: \"))\n",
    "op =  input(\"Insira uma operação: \")\n",
    "\n",
    "\n",
    "\n",
    "if op == \"+\":\n",
    "    resultado = num1 + num2\n",
    "elif op == \"-\":\n",
    "    resultado = num1 - num2\n",
    "elif op == \"*\":\n",
    "    resultado = num1 * num2\n",
    "elif op == \"**\":\n",
    "   resultado = num1 ** num2\n",
    "elif op == \"/\":\n",
    "    if  num2 != 0:\n",
    "     resultado = num1 / num2\n",
    "    else:\n",
    "        print(\"operacao com 0 não permitida \")\n",
    "        resultado = None\n",
    "else:\n",
    "  print(\"Insira uma operação valida. \")\n",
    "  resultado = None\n",
    "\n",
    "if resultado is not None:\n",
    "  print(\"O resultado é:\", resultado)\n",
    "\n",
    "\n",
    "if resultado % 2 == 0:\n",
    "   print(\"O numero é par.\")\n",
    "else:\n",
    "   print(\"O numero é impar\")\n",
    "\n",
    "if resultado < 0:\n",
    "   print(\"O resultado é negativo\")\n",
    "else:\n",
    "   print(\"O resultado é positivo \")\n",
    "\n",
    "if resultado.is_integer():\n",
    "  print(\"O numero é inteiro\")\n",
    "else:\n",
    "   print(\"O numero é decimal\")"
   ]
  },
  {
   "cell_type": "code",
   "execution_count": null,
   "metadata": {},
   "outputs": [],
   "source": [
    "#8) IDADE\n",
    "\n",
    "idade = int(input(\"Insira um idade: \"))\n",
    "\n",
    "if idade >= 0 and idade <= 150:\n",
    "    print(\"Valido\")\n",
    "else:\n",
    "    print(\"Invalido\")"
   ]
  },
  {
   "cell_type": "code",
   "execution_count": null,
   "metadata": {},
   "outputs": [],
   "source": [
    "#9) PRIMO OU NÃO\n",
    "\n",
    "numero = int(input(\"Insira um numero: \"))\n",
    "\n",
    "if numero > 1:\n",
    "    for i in range(2, numero):\n",
    "        if (numero % i ==0):\n",
    "            print(\" O numero não é primo: \")\n",
    "            break\n",
    "    else:\n",
    "        print(\"O numero é primo: \")\n",
    "else:\n",
    "    print(\"O numero não é primo\")"
   ]
  },
  {
   "cell_type": "code",
   "execution_count": 1,
   "metadata": {},
   "outputs": [
    {
     "name": "stdout",
     "output_type": "stream",
     "text": [
      "A soma é: 70.0\n",
      "A média é: 14.0\n"
     ]
    }
   ],
   "source": [
    "#10) MEDIA E SOMA\n",
    "\n",
    "numeros = []\n",
    "\n",
    "\n",
    "for i in range(5):\n",
    "    numero = float(input(\"Digite um número: \"))\n",
    "    numeros.append(numero)\n",
    "\n",
    "\n",
    "soma = sum(numeros)\n",
    "\n",
    "\n",
    "media = soma / len(numeros)\n",
    "\n",
    "\n",
    "print(\"A soma é:\", soma)\n",
    "print(\"A média é:\", media)"
   ]
  },
  {
   "cell_type": "code",
   "execution_count": 7,
   "metadata": {},
   "outputs": [
    {
     "name": "stdout",
     "output_type": "stream",
     "text": [
      "[1203.0, 80.0, 10.0]\n"
     ]
    }
   ],
   "source": [
    "#11) 3 NUMEROS ORDEM DECRESCENTE\n",
    "\n",
    "numero1 =float(input(\"insira um numero de 1-20: \"))\n",
    "numero2 =float(input(\"insira um numero de 1-20: \"))\n",
    "numero3 =float(input(\"insira um numero de 1-20: \"))\n",
    " \n",
    "ListaNumero = [numero1, numero2, numero3]\n",
    "ListaNumero.sort(reverse=True)\n",
    " \n",
    "print(ListaNumero)"
   ]
  },
  {
   "cell_type": "code",
   "execution_count": 7,
   "metadata": {},
   "outputs": [
    {
     "name": "stdout",
     "output_type": "stream",
     "text": [
      "A maior temperatura é: 225\n",
      "A menor temperatura é: 5\n",
      "A média das temperaturas é: 52.0\n"
     ]
    }
   ],
   "source": [
    "#12) TEMPERATURAS\n",
    "temp1 = []\n",
    "soma_temperaturas = 0\n",
    "\n",
    "for cont in range(5):\n",
    "    temperatura = int(input(\"Insira uma temperatura: \"))\n",
    "    temp1.append(temperatura)\n",
    "    soma_temperaturas += temperatura  \n",
    "    \n",
    " \n",
    "\n",
    "if temp1:\n",
    "    print(\"A maior temperatura é:\", max(temp1))\n",
    "    print(\"A menor temperatura é:\", min(temp1))\n",
    "    media_temperaturas = soma_temperaturas / len(temp1)  \n",
    "    print(\"A média das temperaturas é:\", media_temperaturas)\n",
    "else:\n",
    "    print(\"Nenhuma temperatura foi inserida.\")\n",
    "    \n",
    "\n",
    "    "
   ]
  },
  {
   "cell_type": "code",
   "execution_count": 2,
   "metadata": {},
   "outputs": [
    {
     "name": "stdout",
     "output_type": "stream",
     "text": [
      "seu saldo: 400 e seu credito: 80.0\n"
     ]
    }
   ],
   "source": [
    "#13) banco e credito\n",
    "\n",
    "saldo_medio = int(input(\"Insira seu saldo medio\"))\n",
    "credito = 0\n",
    "\n",
    "if saldo_medio < 200:\n",
    "    print(\"Você não receberá crédito.\")\n",
    "elif saldo_medio <= 400:\n",
    "    credito = saldo_medio * 0.2  \n",
    "    print(f\"seu saldo: {saldo_medio} e seu credito:\", credito)\n",
    "elif saldo_medio <= 600:\n",
    "    credito = saldo_medio * 0.3 \n",
    "    print(f\"seu saldo: {saldo_medio} e seu credito:\", credito)\n",
    "else:\n",
    "    credito = saldo_medio * 0.4 \n",
    "    print(f\"seu saldo: {saldo_medio} e seu credito:\", credito)\n",
    "\n",
    "\n",
    "\n",
    "\n"
   ]
  },
  {
   "cell_type": "code",
   "execution_count": 67,
   "metadata": {},
   "outputs": [
    {
     "name": "stdout",
     "output_type": "stream",
     "text": [
      "olá lucas você tem direito a aposentadoria. \n"
     ]
    }
   ],
   "source": [
    "#14)INSS\n",
    "\n",
    "nome = input(\"Insira seu nome: \")\n",
    "idade = int(input(\"insira sua idade: \"))\n",
    "\n",
    "aposentadoria = 65 - idade + 2024\n",
    "\n",
    "if idade >= 65:\n",
    "    print(f\"olá {nome}, você tem direito a aposentadoria. \")\n",
    "else:\n",
    "    print(f\"olá {nome}, você só terá direito da aposentadoria em {aposentadoria}\")"
   ]
  },
  {
   "cell_type": "code",
   "execution_count": 73,
   "metadata": {},
   "outputs": [
    {
     "name": "stdout",
     "output_type": "stream",
     "text": [
      "Salário Bruto: R$ 1110000.0\n",
      "Desconto do Imposto de Renda: R$ 305250.0\n",
      "Desconto do Sindicato: R$ 33300.0\n",
      "Valor do FGTS: R$ 122100.0\n",
      "Salário Líquido: R$ 771450.0\n"
     ]
    }
   ],
   "source": [
    "#15) impostos\n",
    "valor_hora = float(input(\"Qual o valor da hora? \"))\n",
    "qt_horas = float(input(\"Quantas horas no mês?  \"))\n",
    "\n",
    "salarioB = valor_hora * qt_horas\n",
    "\n",
    "if salarioB <= 2112.00:\n",
    "    desconto_ir = 0\n",
    "elif salarioB <= 2826.65:\n",
    "    desconto_ir = salarioB * 0.075\n",
    "elif salarioB <= 3751.05:\n",
    "    desconto_ir = salarioB * 0.15\n",
    "elif salarioB <= 4664.68:\n",
    "    desconto_ir = salarioB * 0.225\n",
    "else:\n",
    "    desconto_ir = salarioB * 0.275\n",
    "\n",
    "descontoSind = salarioB * 0.03\n",
    "fgts = salarioB * 0.11\n",
    "salarioLiq = salarioB - desconto_ir - descontoSind\n",
    "\n",
    "print(\"Salário Bruto: R$\", salarioB)\n",
    "print(\"Desconto do Imposto de Renda: R$\", desconto_ir)\n",
    "print(\"Desconto do Sindicato: R$\", descontoSind)\n",
    "print(\"Valor do FGTS: R$\", fgts)\n",
    "print(\"Salário Líquido: R$\", salarioLiq)\n"
   ]
  },
  {
   "cell_type": "code",
   "execution_count": null,
   "metadata": {},
   "outputs": [],
   "source": []
  }
 ],
 "metadata": {
  "kernelspec": {
   "display_name": "Python 3",
   "language": "python",
   "name": "python3"
  },
  "language_info": {
   "codemirror_mode": {
    "name": "ipython",
    "version": 3
   },
   "file_extension": ".py",
   "mimetype": "text/x-python",
   "name": "python",
   "nbconvert_exporter": "python",
   "pygments_lexer": "ipython3",
   "version": "3.12.1"
  }
 },
 "nbformat": 4,
 "nbformat_minor": 2
}
